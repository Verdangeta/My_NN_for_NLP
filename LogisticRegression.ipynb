{
 "cells": [
  {
   "cell_type": "code",
   "execution_count": 1,
   "metadata": {},
   "outputs": [],
   "source": [
    "#Загружаем текст\n",
    "import os\n",
    "import scipy as sp\n",
    "import time\n",
    "import math\n",
    "from scipy.sparse import dok_matrix, \\\n",
    "                         lil_matrix, \\\n",
    "                         coo_matrix, \\\n",
    "                         csr_matrix\n",
    "\n",
    "from collections import defaultdict\n",
    "with open(f'filimdb_evaluation/FILIMDB/train.texts', 'r') as f:\n",
    "    text = f.read()\n",
    "train=[review for review in text.split('\\n')]\n",
    "\n",
    "with open(f'filimdb_evaluation/FILIMDB/train.labels', 'r') as f:\n",
    "    text_labels = f.read()\n",
    "labels=[1 if label==\"pos\" else 0  for label in text_labels.split('\\n')]\n",
    "\n",
    "#Скачиваем валидационую выборку     #######################################################################\n",
    "from collections import defaultdict\n",
    "with open(f'filimdb_evaluation/FILIMDB/dev.texts', 'r') as f:\n",
    "    text = f.read()\n",
    "develop=[review for review in text.split('\\n')]\n",
    "\n",
    "with open(f'filimdb_evaluation/FILIMDB/dev.labels', 'r') as f:\n",
    "    text_labels = f.read()\n",
    "labels_develop=[1 if label==\"pos\" else 0  for label in text_labels.split('\\n')]    ##################"
   ]
  },
  {
   "cell_type": "code",
   "execution_count": 2,
   "metadata": {},
   "outputs": [],
   "source": [
    "def preprocessing(my_text):\n",
    "    #Переводим в нижний регистр\n",
    "    #Уберём все лишние символы(не буквы и цифры) Просто удалил все лишние символы\n",
    "    return ''.join([symbol.lower()  for symbol in my_text if symbol.isalnum() or symbol==' '])"
   ]
  },
  {
   "cell_type": "code",
   "execution_count": 3,
   "metadata": {},
   "outputs": [],
   "source": [
    "def tokenization(my_text):\n",
    "    return [word for word in my_text.split(' ') if not word==' 'and not word=='  ' and not word=='']"
   ]
  },
  {
   "cell_type": "code",
   "execution_count": 4,
   "metadata": {},
   "outputs": [],
   "source": [
    "# предобработка и токенизация Обучающей выборки\n",
    "train=[tokenization(preprocessing(review)) for review in train]"
   ]
  },
  {
   "cell_type": "code",
   "execution_count": 5,
   "metadata": {},
   "outputs": [],
   "source": [
    "# предобработка и токенизация Валидационой выборки                     ####################################\n",
    "develop=[tokenization(preprocessing(review)) for review in develop]    ####################################"
   ]
  },
  {
   "cell_type": "code",
   "execution_count": 6,
   "metadata": {},
   "outputs": [],
   "source": [
    "# Постройте словарь, в котором будут содержаться все уникальные\n",
    "# токены из обучающей выборки.\n",
    "train_dict=defaultdict(int)\n",
    "k=0;\n",
    "for review in train:\n",
    "    for token in review:\n",
    "        if not token in train_dict:\n",
    "            train_dict[token]=k\n",
    "            k+=1\n",
    "            \n",
    "train_dict['<unk>']=k\n",
    "M=len(train_dict)\n",
    "N=len(train)-1\n",
    "train_dict_list=list(train_dict.keys())\n",
    "# Длина получившегося словаря: 93043"
   ]
  },
  {
   "cell_type": "code",
   "execution_count": 8,
   "metadata": {},
   "outputs": [],
   "source": [
    "# Для того, чтобы обучить логистическую регрессию необходимо представить обучаю-\n",
    "# щую и тестовую выборки в виде матриц размера N ∗ V , где N – количество отзывов\n",
    "# в выборке, а V – размер словаря.\n",
    "def sparse_performance(N,M,train,train_dict):\n",
    "    train_dict_list=list(train_dict.keys())\n",
    "    data =[]  # Non-zero elements\n",
    "    row =[] # their row indices\n",
    "    col =[]  # their column indices\n",
    "#Эта функция работает не только с обучающей воборкой, а для любой , если задан словарь.\n",
    "# indx=0\n",
    "    for i in range(N):#Проходимся по всем отзывам\n",
    "#     start_time = time.time()\n",
    "#     indx+=1\n",
    "        dev=train[i]\n",
    "        dev.sort()# сортируем их для удобства\n",
    "        k=0\n",
    "        helpser=dev[0]\n",
    "        for j in dev:#считаем вхождения\n",
    "        \n",
    "            if j==helpser:\n",
    "                k+=1\n",
    "            else:\n",
    "                data.append(k)\n",
    "                row.append(i)\n",
    "                k=1\n",
    "                helpser=j\n",
    "                if helpser in train_dict:\n",
    "                    col.append(train_dict[helpser])# супер проблемная строчка, долго ищет!!(исправил)\n",
    "                else:\n",
    "                    col.append(train_dict['<unk>'])\n",
    "                    \n",
    "    X = csr_matrix((data, (row, col)), shape=(N, M))\n",
    "    return X\n",
    "#     print(\"--- %s seconds ---\\n\" % (time.time() - start_time))\n",
    "#     print(indx,'\\n')\n",
    "\n",
    "\n",
    "#     le=len(train[i])\n",
    "#     for j in range(len(train_dict_list)):\n",
    "#         if train_dict_list[j] in train[i]:\n",
    "#             dev=train[i].count(train_dict_list[j])\n",
    "#             data.append(dev)\n",
    "#             row.append(i)\n",
    "#             col.append(j)\n",
    "#             le-=dev\n",
    "            \n",
    "#     if not le==0:\n",
    "#         data.append[le]\n",
    "#         row.append(i)\n",
    "#         col.append(train_dict_list.index('<unk>'))\n",
    "        \n",
    "            \n",
    "    \n",
    "                \n",
    "        \n"
   ]
  },
  {
   "cell_type": "code",
   "execution_count": 12,
   "metadata": {},
   "outputs": [
    {
     "data": {
      "text/plain": [
       "(15000, 93043)"
      ]
     },
     "execution_count": 12,
     "metadata": {},
     "output_type": "execute_result"
    }
   ],
   "source": [
    "X = sparse_performance(N,M,train,train_dict)\n",
    "X.shape"
   ]
  },
  {
   "cell_type": "code",
   "execution_count": 13,
   "metadata": {},
   "outputs": [],
   "source": [
    "DEV=sparse_performance(len(develop)-1,M,develop,train_dict)"
   ]
  },
  {
   "cell_type": "code",
   "execution_count": 14,
   "metadata": {},
   "outputs": [],
   "source": [
    "# Напишите функцию сигмоида (покомпонентная)\n",
    "import numpy as np\n",
    "def sigmoida (arg):\n",
    "    arg=np.array(arg)\n",
    "    shp=arg.shape\n",
    "    c=1\n",
    "    for i in range(len(shp)):\n",
    "    \tc=c*shp[i]\n",
    "    arg=arg.reshape(c,)\n",
    "    return  1/(1+np.exp(-arg)) if shp==() else np.array([ math.fabs(1/(1+np.exp(-i))-1e-7) if 1/(1+np.exp(-i))==0.0 or 1/(1+np.exp(-i))==1.0 else 1/(1+np.exp(-i)) for i in arg] ).reshape(shp)\n",
    "# math.fabs(1/(1+np.exp(-i))-1e-7) if 1/(1+np.exp(-i))==0.0 or 1/(1+np.exp(-i))==1.0 else 1/(1+np.exp(-i))\n",
    "#Делаю проверку на те случаи, когда сигмоида выдаёт либо 0, либо 1.В таком случае чуть отступаю в сторонку=)\n",
    "def logs (arg):\n",
    "    arg=np.array(arg)\n",
    "    shp=arg.shape\n",
    "    c=1\n",
    "    for i in range(len(shp)):\n",
    "    \tc=c*shp[i]\n",
    "    arg=arg.reshape(c,)\n",
    "    return  math.log(arg) if shp==() else np.array([math.log(i) for i in arg]).reshape(shp)"
   ]
  },
  {
   "cell_type": "code",
   "execution_count": 15,
   "metadata": {},
   "outputs": [],
   "source": [
    "# Напишите функцию инициализации весов\n",
    "# (принимает число признаков, возвращает вектор нулей нужного типа и размера).\n",
    "def initialization (N):\n",
    "    return np.zeros((1,N+1), dtype=float)"
   ]
  },
  {
   "cell_type": "code",
   "execution_count": 16,
   "metadata": {},
   "outputs": [],
   "source": [
    "# Прямой проход. Напишите две функции, которые для заданной выборки (матрица\n",
    "# векторов признаков X, вектор правильных ответов y), вектора весов w и значения ги-\n",
    "# перпараметра α вычисляют оценочную фунцию и точность: одну с использованием цик-\n",
    "# ла по примерам, другую - без цикла, с помощью матричных операций\n",
    "\n",
    "def BCE_plus_reg(X,y,w,a):\n",
    "    n,m = X.shape # for generality\n",
    "    X0= np.ones((n,1))\n",
    "    X=sp.sparse.hstack((X0,X))#Добавили столбец для bias\n",
    "    scalar=np.array(X.dot(w.T))#Посчиталь скаляр\n",
    "   \n",
    "    sig=sigmoida(scalar)#Посчиталь функцию активациии\n",
    "    L=-(1/n)*((y).dot(logs(sig)) +(1-y).dot(logs(1-sig)))+a*w.dot(w.T)\n",
    "    sig=sig.reshape(n,)\n",
    "    y=y.reshape(n,)\n",
    "    accuracy_dev=np.array([1 if sig[i]>0.5 else 0  for i in range(len(sig))])\n",
    "    accuracy=0\n",
    "    for i in range(len(sig)):\n",
    "        if accuracy_dev[i]==y[i]:\n",
    "            accuracy+=1\n",
    "    accuracy=accuracy/n\n",
    "    return L[0][0],accuracy\n",
    "# Как и было аналитически посчитано, эта функция при нулевых весах выдаёт значение логарифма\n",
    "# в точке 1/2 с минусом, а точность примерно 0,5!!!(0.6931471805599455 0.49866666666666665)"
   ]
  },
  {
   "cell_type": "code",
   "execution_count": 20,
   "metadata": {},
   "outputs": [],
   "source": [
    "# Прямой+обратный проход. Напишите функцию, которая для заданной выборки\n",
    "# (матрица векторов признаков X, вектор правильных ответов y), вектора весов w и\n",
    "# значения гиперпараметра α возвращает точность классификатора, значение оценочной\n",
    "# функции L и ее градиенты\n",
    "\n",
    "def forward_and_reverse(X,y,w,a):\n",
    "    n,m = X.shape # for generality\n",
    "    X0= np.ones((n,1))\n",
    "    X=sp.sparse.hstack((X0,X))#Добавили столбец для bias\n",
    "    scalar=np.array(X.dot(w.T))#Посчиталь скаляр\n",
    "    sig=sigmoida(scalar)#Посчиталь функцию активациии\n",
    "    L=-(1/n)*((y).dot(logs(sig)) +(1-y).dot(logs(1-sig)))+a*w.dot(w.T)\n",
    "    sig=sig.reshape(n,)\n",
    "    y=y.reshape(n,)\n",
    "    gradient=(sp.sparse.diags(sig-y)).dot(X)#Считаем градиент матричными формулами=)\n",
    "    gradient=np.sum(gradient,axis=0)\n",
    "    gradient=gradient/n+2*a*w\n",
    "    accuracy_dev=np.array([1 if sig[i]>0.5 else 0  for i in range(len(sig))])#СЧитаем точность\n",
    "    accuracy=0\n",
    "    for i in range(len(sig)):\n",
    "        if accuracy_dev[i]==y[i]:\n",
    "            accuracy+=1\n",
    "    accuracy=accuracy/n\n",
    "    return L,accuracy,gradient\n",
    "    "
   ]
  },
  {
   "cell_type": "code",
   "execution_count": 21,
   "metadata": {},
   "outputs": [],
   "source": [
    "#Напишите функцию, которая используя посчитанные градиен-\n",
    "#ты, делает шаг градиентного спуска (обновляет значение весов)\n",
    "def descent_step (w,gradient,learning_rate):\n",
    "    return w-learning_rate*gradient"
   ]
  },
  {
   "cell_type": "code",
   "execution_count": 22,
   "metadata": {},
   "outputs": [],
   "source": [
    "# Градиентный спуск.Напишите функцию,\n",
    "# которая принимает обучающую выборку, текущие значения весов, число эпох обучения,\n",
    "# learning rate, обучает модель методом градиентного спуска и возвращает новые значе-\n",
    "# ния весов.\n",
    "def gradient_descent(X,w,epoch,learning_rate,y,a,DEV,y_dev):\n",
    "    graphics_t=[]#Сoхраним данные для построения графика\n",
    "    L_t=[]\n",
    "    accuracy_t=[]\n",
    "    epoch_t=[]\n",
    "    \n",
    "    graphics_v=[]\n",
    "    L_v=[]\n",
    "    accuracy_v=[]\n",
    "    epoch_v=[]\n",
    "    for i in range(epoch):\n",
    "        L,accuracy,gradient=forward_and_reverse(X,y,w,a)\n",
    "        L_t.append(float(L))\n",
    "        accuracy_t.append(accuracy)\n",
    "        epoch_t.append(i)\n",
    "        \n",
    "#       Посчитаем точность на валидационной выборке\n",
    "        L,accuracy=BCE_plus_reg(DEV,y_dev,w,a)\n",
    "        L_v.append(float(L))\n",
    "        accuracy_v.append(accuracy)\n",
    "        epoch_v.append(i)\n",
    "        \n",
    "#       Конец подсчёта   \n",
    "        w=descent_step(w,gradient,learning_rate)\n",
    "    graphics_v.append(L_v)\n",
    "    graphics_v.append(accuracy_v)\n",
    "    graphics_v.append(epoch_v)\n",
    "    \n",
    "    graphics_t.append(L_t)\n",
    "    graphics_t.append(accuracy_t)\n",
    "    graphics_t.append(epoch_t)\n",
    "    return w,graphics_t,graphics_v"
   ]
  },
  {
   "cell_type": "code",
   "execution_count": 74,
   "metadata": {},
   "outputs": [
    {
     "data": {
      "image/png": "[encoded data removed]",
      "text/plain": [
       "<Figure size 432x288 with 1 Axes>"
      ]
     },
     "metadata": {
      "needs_background": "light"
     },
     "output_type": "display_data"
    },
    {
     "data": {
      "image/png": "[encoded data removed]",
      "text/plain": [
       "<Figure size 432x288 with 1 Axes>"
      ]
     },
     "metadata": {
      "needs_background": "light"
     },
     "output_type": "display_data"
    }
   ],
   "source": [
    "import matplotlib.pyplot as plt\n",
    "# Для тестирования отключите регуляризацию ( α = 0) и проверьте, что классификатор\n",
    "# может запомнить небольшую часть (1000 примеров) обучающей выборки (точность на\n",
    "# ней должна быть равна 1.0, потребуется подобрать learning rate и число эпох обуче-\n",
    "# ния).\n",
    "w=initialization(M)\n",
    "a=0\n",
    "y=np.array(labels[:-1]).reshape(1,15000)\n",
    "lamda=1\n",
    "epoch=160\n",
    "w,graph=gradient_descent(X[:1000],w,epoch,lamda,y[0][:1000],a)\n",
    "_,ax = plt.subplots()\n",
    "ax.plot(graph[2], graph[1], lw = 2, color = '#539caf', alpha = 1)\n",
    "ax.set_title('Пробежка по 1000 примерам')\n",
    "ax.set_xlabel('epoch')\n",
    "ax.set_ylabel('accuracy')\n",
    "ax.grid(True)\n",
    "\n",
    "_,ay = plt.subplots()\n",
    "ay.plot(graph[2], graph[0], lw = 2, color = '#539caf', alpha = 1)\n",
    "ay.set_title('Пробежка по 1000 примерам')\n",
    "ay.set_xlabel('epoch')\n",
    "ay.set_ylabel('BCE+reg*0')\n",
    "ay.grid(True)\n",
    "\n",
    "plt.show()\n",
    "#Здесь функция градиентного спуска ещё не изменена, поэтому не может принимать на вход валидационную выборку."
   ]
  },
  {
   "cell_type": "code",
   "execution_count": 51,
   "metadata": {},
   "outputs": [
    {
     "data": {
      "image/png": "[encoded data removed]",
      "text/plain": [
       "<Figure size 432x288 with 1 Axes>"
      ]
     },
     "metadata": {
      "needs_background": "light"
     },
     "output_type": "display_data"
    },
    {
     "name": "stdout",
     "output_type": "stream",
     "text": [
      "Итоговая точность на обучающей:\t\t  0.9112 % \n",
      "\n",
      "Итоговая точность на валидационной:\t\t  0.8456 % \n",
      "\n"
     ]
    },
    {
     "data": {
      "image/png": "[encoded data removed]",
      "text/plain": [
       "<Figure size 432x288 with 1 Axes>"
      ]
     },
     "metadata": {
      "needs_background": "light"
     },
     "output_type": "display_data"
    }
   ],
   "source": [
    "import matplotlib.pyplot as plt\n",
    "# Установите learning rate равным 1e−3, коэффициент L 2 регуляризации α равным 1e−5.\n",
    "# Обучите логистическую регрессию на обучающей выборке. Постройте графики измене-\n",
    "# ния оценочной функции и точности на обучающей и валидационной выборках в процессе\n",
    "# обучения (графики обучения).\n",
    "lamda=5e-2\n",
    "a=4e-3\n",
    "w=initialization(M)\n",
    "y=np.array(labels[:-1]).reshape(1,15000)\n",
    "y_dev=np.array(labels_develop[:-1]).reshape(1,10000)\n",
    "epoch=2000\n",
    "w,graph_t,graph_v=gradient_descent(X,w,epoch,lamda,y,a,DEV,y_dev)\n",
    "#Графика\n",
    "plt.plot(graph_t[2], graph_t[1], lw = 2, color = 'blue',alpha = 1 ,label='train')\n",
    "plt.plot(graph_v[2], graph_v[1], lw = 2, color = 'red', alpha = 1, label='dev')\n",
    "plt.title('точность на обучающей выборке и валидационной')\n",
    "plt.ylabel('accuracy')\n",
    "plt.xlabel('epoch')\n",
    "plt.grid(True)\n",
    "plt.legend(loc='best')\n",
    "plt.show()\n",
    "\n",
    "print(\"Итоговая точность на обучающей:\\t\\t \",graph_t[1][-1],\"% \\n\")\n",
    "print(\"Итоговая точность на валидационной:\\t\\t \",graph_v[1][-1],\"% \\n\")\n",
    "\n",
    "\n",
    "plt.plot(graph_t[2], graph_t[0], lw = 2, color = 'blue', alpha = 1 ,label='train')\n",
    "plt.plot(graph_v[2], graph_v[0], lw = 2, color = 'red', alpha = 1, label='dev')\n",
    "plt.title('ошибка на обучающей выборке и валидационной')\n",
    "plt.ylabel('BCE+reg*a')\n",
    "plt.xlabel('epoch')\n",
    "plt.grid(True)\n",
    "plt.legend(loc='best')\n",
    "plt.show()\n",
    "#Конец графики"
   ]
  },
  {
   "cell_type": "markdown",
   "metadata": {},
   "source": [
    "Удалось достичь точности в  0.9112 % на обучающей и 0.8456 % на валидационной на 2000 эпохах.Переобучения не происходит, всё тихо-мирно"
   ]
  },
  {
   "cell_type": "code",
   "execution_count": null,
   "metadata": {},
   "outputs": [],
   "source": []
  }
 ],
 "metadata": {
  "kernelspec": {
   "display_name": "Python 3",
   "language": "python",
   "name": "python3"
  },
  "language_info": {
   "codemirror_mode": {
    "name": "ipython",
    "version": 3
   },
   "file_extension": ".py",
   "mimetype": "text/x-python",
   "name": "python",
   "nbconvert_exporter": "python",
   "pygments_lexer": "ipython3",
   "version": "3.7.3"
  }
 },
 "nbformat": 4,
 "nbformat_minor": 2
}
