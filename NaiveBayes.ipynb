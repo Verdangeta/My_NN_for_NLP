{
 "cells": [
  {
   "cell_type": "code",
   "execution_count": 1,
   "metadata": {},
   "outputs": [
    {
     "name": "stdout",
     "output_type": "stream",
     "text": [
      "dev-b.labels  dev.labels  test-b.texts\ttrain.labels  train_unlabeled.texts\r\n",
      "dev-b.texts   dev.texts   test.texts\ttrain.texts\r\n"
     ]
    }
   ],
   "source": [
    "!ls filimdb_evaluation/FILIMDB/"
   ]
  },
  {
   "cell_type": "code",
   "execution_count": 2,
   "metadata": {},
   "outputs": [],
   "source": [
    "#Загружаем текст\n",
    "import os\n",
    "import math\n",
    "from collections import defaultdict\n",
    "with open(f'filimdb_evaluation/FILIMDB/train.texts', 'r') as f:\n",
    "    text = f.read()\n",
    "reviews=[review for review in text.split('\\n')]\n",
    "\n",
    "with open(f'filimdb_evaluation/FILIMDB/train.labels', 'r') as f:\n",
    "    text_labels = f.read()\n",
    "labels=[label for label in text_labels.split('\\n')]\n",
    "#Посчитаем вероятности классов!!!\n",
    "probability_pos=0\n",
    "probability_neg=0\n",
    "\n",
    "for i in labels:\n",
    "    if i=='pos':\n",
    "        probability_pos+=1\n",
    "\n",
    "for i in labels:\n",
    "    if i=='neg':\n",
    "        probability_neg+=1\n",
    "        \n",
    "probability_pos=probability_pos/len(labels)\n",
    "probability_neg=probability_neg/len(labels)\n",
    "#Загрузим обучающую выборку в 2 списка позитивные и негативные отзывы.И сразу запихнём все отзывы одной метки в одну строку\n",
    "reviews_pos=' '.join([reviews[i] for i in range(len(reviews)) if labels[i]=='pos'])#Хотел сделать маской красиво, но не получилось.Нужен Numpy\n",
    "reviews_neg=' '.join([reviews[i] for i in range(len(reviews)) if labels[i]=='neg'])\n",
    "#Может надо удалить бесполезный символ перевода строки тут? (<br /><br />)"
   ]
  },
  {
   "cell_type": "code",
   "execution_count": 3,
   "metadata": {},
   "outputs": [],
   "source": [
    "def preprocessing(my_text):\n",
    "    #Переводим в нижний регистр\n",
    "    #Уберём все лишние символы(не буквы и цифры)\n",
    "    return ''.join([symbol.lower() if symbol.isalnum() or symbol==' ' else ' '+symbol+' ' for symbol in my_text])\n",
    "    "
   ]
  },
  {
   "cell_type": "code",
   "execution_count": 12,
   "metadata": {},
   "outputs": [],
   "source": [
    "reviews_pos=preprocessing(reviews_pos)\n",
    "reviews_neg=preprocessing(reviews_neg)"
   ]
  },
  {
   "cell_type": "code",
   "execution_count": 5,
   "metadata": {},
   "outputs": [],
   "source": [
    "def tokenization(my_text):\n",
    "    return [word for word in my_text.split(' ') if not word==' 'and not word=='  ' and not word=='']"
   ]
  },
  {
   "cell_type": "code",
   "execution_count": 6,
   "metadata": {},
   "outputs": [],
   "source": [
    "reviews_pos=tokenization(reviews_pos)\n",
    "reviews_neg=tokenization(reviews_neg)"
   ]
  },
  {
   "cell_type": "code",
   "execution_count": 7,
   "metadata": {},
   "outputs": [],
   "source": [
    "#Создаём словари с вероятностями слова->вероятность\n",
    "vocab_pos=defaultdict(float)\n",
    "vocab_neg=defaultdict(float)\n",
    "sum_pos=len(set(reviews_pos))+1\n",
    "sum_neg=len(set(reviews_neg))+1\n",
    "vocab_pos['<unk>']=1\n",
    "vocab_neg['<unk>']=1\n",
    "for w in reviews_pos:\n",
    "    vocab_pos[w] += 1\n",
    "for w in reviews_neg:\n",
    "    vocab_neg[w] += 1\n",
    "result_train=[vocab_neg,probability_neg,vocab_pos,probability_pos]"
   ]
  },
  {
   "cell_type": "code",
   "execution_count": 8,
   "metadata": {},
   "outputs": [],
   "source": [
    "def classifier(text,params):#Классифицирует один отзыв и возращает метку\n",
    "    text=tokenization(preprocessing(text))\n",
    "    p_neg=0\n",
    "    p_pos=0\n",
    "      \n",
    "    #####Bernoulli model####\n",
    "    \"\"\"\n",
    "    text=set(text)\n",
    "    for i in text:#прошлись по тем словам, что есть в тексте\n",
    "        val=params[0].get(i,-1)\n",
    "        if val==-1:\n",
    "            p_neg+=math.log(params[0].get('<unk>'))\n",
    "        else:\n",
    "            p_neg+=math.log(val)\n",
    "            \n",
    "    for i,value in params[0].items():#прошлись по тем словам, коих нет в тексте\n",
    "        if not i in text:\n",
    "            try:\n",
    "                p_neg+=math.log(1-value)\n",
    "            except ValueError:\n",
    "                p_neg+=0\n",
    "    \n",
    "\n",
    "    p_neg*=params[1]\n",
    "    \n",
    "    for i in text:\n",
    "        val=params[2].get(i,-1)\n",
    "        if val==-1:\n",
    "            p_pos+=math.log(params[2].get('<unk>'))\n",
    "        else:\n",
    "            p_pos+=math.log(val)\n",
    "           \n",
    "    for i,value in params[2].items():#прошлись по тем словам, коих нет в тексте\n",
    "        if not i in text:\n",
    "            try:\n",
    "                p_pos+=math.log(1-value)\n",
    "            except ValueError:\n",
    "                p_neg+=0\n",
    "    \n",
    "    \n",
    "    p_pos*=params[3]\n",
    "    \n",
    "    \"\"\"\n",
    "    #####Multinomial model####\n",
    "    text_set=set(text)\n",
    "    \n",
    "    for i in text_set:\n",
    "        val=params[0].get(i,-1)\n",
    "        if val==-1:\n",
    "            p_neg+=math.log(params[0].get('<unk>'))*text.count(i)\n",
    "        else:\n",
    "            p_neg+=math.log(val)*text.count(i)\n",
    "    p_neg*=params[1]\n",
    "    \n",
    "    for i in text_set:\n",
    "        val=params[2].get(i,-1)\n",
    "        if val==-1:\n",
    "            p_neg+=math.log(params[2].get('<unk>'))*text.count(i)\n",
    "        else:\n",
    "            p_neg+=math.log(val)*text.count(i)\n",
    "    p_pos*=params[3]\n",
    "    \n",
    "    ##########################\n",
    "    return 'pos' if p_pos>p_neg else 'neg'"
   ]
  },
  {
   "cell_type": "code",
   "execution_count": 9,
   "metadata": {},
   "outputs": [],
   "source": [
    "def classify(texts, params):\n",
    "    reviews=[review for review in text.split('\\n')]\n",
    "    return [classifier(i,params) for i in reviews]"
   ]
  },
  {
   "cell_type": "code",
   "execution_count": 10,
   "metadata": {},
   "outputs": [],
   "source": [
    "res=classify(text,result_train)"
   ]
  },
  {
   "cell_type": "code",
   "execution_count": 11,
   "metadata": {},
   "outputs": [
    {
     "name": "stdout",
     "output_type": "stream",
     "text": [
      "0.12466666666666666\n"
     ]
    }
   ],
   "source": [
    "accuracy=0\n",
    "for i in range(len(labels)):\n",
    "    if res[i]==labels[i]:\n",
    "        accuracy+=1\n",
    "print(accuracy/len(text_labels))"
   ]
  }
 ],
 "metadata": {
  "kernelspec": {
   "display_name": "Python 3",
   "language": "python",
   "name": "python3"
  },
  "language_info": {
   "codemirror_mode": {
    "name": "ipython",
    "version": 3
   },
   "file_extension": ".py",
   "mimetype": "text/x-python",
   "name": "python",
   "nbconvert_exporter": "python",
   "pygments_lexer": "ipython3",
   "version": "3.6.9"
  }
 },
 "nbformat": 4,
 "nbformat_minor": 2
}
